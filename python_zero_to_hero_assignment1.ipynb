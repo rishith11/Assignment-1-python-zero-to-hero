{
  "nbformat": 4,
  "nbformat_minor": 0,
  "metadata": {
    "colab": {
      "name": "python zero to hero assignment1.ipynb",
      "provenance": []
    },
    "kernelspec": {
      "name": "python3",
      "display_name": "Python 3"
    },
    "language_info": {
      "name": "python"
    }
  },
  "cells": [
    {
      "cell_type": "code",
      "metadata": {
        "colab": {
          "base_uri": "https://localhost:8080/"
        },
        "id": "VYl-rogcwNKs",
        "outputId": "00a5b807-8962-414b-ce85-2cc43f1b8795"
      },
      "source": [
        "x = int (input(\"Enter the value of x\"))\n",
        "y = int (input(\"Enter the value of y\"))\n",
        "res = x**y\n",
        "print(\"Result:\", res)"
      ],
      "execution_count": 2,
      "outputs": [
        {
          "output_type": "stream",
          "text": [
            "Enter the value of x5\n",
            "Enter the value of y6\n",
            "Result: 15625\n"
          ],
          "name": "stdout"
        }
      ]
    },
    {
      "cell_type": "code",
      "metadata": {
        "id": "W-ZJ8MgKwemd"
      },
      "source": [
        ""
      ],
      "execution_count": null,
      "outputs": []
    }
  ]
}